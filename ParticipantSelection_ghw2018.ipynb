{
 "cells": [
  {
   "cell_type": "markdown",
   "metadata": {},
   "source": [
    "# 2018 Geohackweek participant selection\n",
    "\n",
    "### A. Arendt and L. Setiawan, May 2, 2018\n",
    "\n",
    "### Using the [entrofy](https://github.com/dhuppenkothen/entrofy) library designed by Daniela Huppenkothen"
   ]
  },
  {
   "cell_type": "code",
   "execution_count": 129,
   "metadata": {},
   "outputs": [],
   "source": [
    "%matplotlib inline\n",
    "import os\n",
    "import matplotlib.pyplot as plt\n",
    "\n",
    "import numpy as np\n",
    "import pandas as pd\n",
    "\n",
    "import entrofy\n",
    "import entrofy.mappers\n",
    "import entrofy.core\n",
    "\n",
    "import six\n",
    "import itertools\n",
    "\n",
    "seed = 20170615"
   ]
  },
  {
   "cell_type": "markdown",
   "metadata": {},
   "source": [
    "### Read in the raw data from jotform"
   ]
  },
  {
   "cell_type": "code",
   "execution_count": 130,
   "metadata": {},
   "outputs": [
    {
     "name": "stderr",
     "output_type": "stream",
     "text": [
      "/home/arendta/miniconda3/envs/py27/lib/python2.7/site-packages/ipykernel_launcher.py:1: FutureWarning: from_csv is deprecated. Please use read_csv(...) instead. Note that some of the default arguments are different, so please refer to the documentation for from_csv when changing your function calls\n",
      "  \"\"\"Entry point for launching an IPython kernel.\n"
     ]
    }
   ],
   "source": [
    "df = pd.DataFrame.from_csv('Geo-Hackweek-2018-Workshop-On-Geospatial-Data-Science.csv')"
   ]
  },
  {
   "cell_type": "markdown",
   "metadata": {},
   "source": [
    "### rename and rearrange the columns"
   ]
  },
  {
   "cell_type": "code",
   "execution_count": 131,
   "metadata": {},
   "outputs": [],
   "source": [
    "pc_col = ['first_name', \n",
    "          'last_name', \n",
    "          'email', \n",
    "          'birth_date', \n",
    "          'academic_institution', \n",
    "          'city', \n",
    "          'state', \n",
    "          'country', \n",
    "          'position', \n",
    "          'grad_program', \n",
    "          # Never heard of this language\n",
    "          'never_python', \n",
    "          'never_r', \n",
    "          'never_julia', \n",
    "          'never_sql', \n",
    "          'never_java', \n",
    "          'never_js', \n",
    "          'never_c_cp', \n",
    "          'never_stata_sas', \n",
    "          'never_shell', \n",
    "          'never_other',\n",
    "          # Heard of this language, but never used it\n",
    "          'heard_python', \n",
    "          'heard_r', \n",
    "          'heard_julia', \n",
    "          'heard_sql', \n",
    "          'heard_java', \n",
    "          'heard_js', \n",
    "          'heard_c_cp', \n",
    "          'heard_stata_sas', \n",
    "          'heard_shell', \n",
    "          'heard_other',\n",
    "          # Print \"Hello world!\" to console\n",
    "          'print_python', \n",
    "          'print_r', \n",
    "          'print_julia', \n",
    "          'print_sql', \n",
    "          'print_java', \n",
    "          'print_js', \n",
    "          'print_c_cp', \n",
    "          'print_stata_sas', \n",
    "          'print_shell', \n",
    "          'print_other',\n",
    "          # Write any function\n",
    "          'func_python', \n",
    "          'func_r', \n",
    "          'func_julia', \n",
    "          'func_sql', \n",
    "          'func_java', \n",
    "          'func_js', \n",
    "          'func_c_cp', \n",
    "          'func_stata_sas', \n",
    "          'func_shell', \n",
    "          'func_other',\n",
    "          # Read data from tab-delimited file\n",
    "          'read_tsv_python', \n",
    "          'read_tsv_r', \n",
    "          'read_tsv_julia', \n",
    "          'read_tsv_sql', \n",
    "          'read_tsv_java', \n",
    "          'read_tsv_js', \n",
    "          'read_tsv_c_cp', \n",
    "          'read_tsv_stata_sas', \n",
    "          'read_tsv_shell', \n",
    "          'read_tsv_other',\n",
    "          # Import a library or package\n",
    "          'import_python', \n",
    "          'import_r', \n",
    "          'import_julia', \n",
    "          'import_sql', \n",
    "          'import_java', \n",
    "          'import_js', \n",
    "          'import_c_cp', \n",
    "          'import_stata_sas', \n",
    "          'import_shell', \n",
    "          'import_other',\n",
    "          # Produce a plot or graph\n",
    "          'plot_python', \n",
    "          'plot_r', \n",
    "          'plot_julia', \n",
    "          'plot_sql', \n",
    "          'plot_java', \n",
    "          'plot_js', \n",
    "          'plot_c_cp', \n",
    "          'plot_stata_sas', \n",
    "          'plot_shell', \n",
    "          'plot_other',\n",
    "          # Scrape a web page\n",
    "          'webscrape_python', \n",
    "          'webscrape_r', \n",
    "          'webscrape_julia', \n",
    "          'webscrape_sql', \n",
    "          'webscrape_java', \n",
    "          'webscrape_js', \n",
    "          'webscrape_c_cp', \n",
    "          'webscrape_stata_sas', \n",
    "          'webscrape_shell', \n",
    "          'webscrape_other',\n",
    "          # Train statistical or machine learning model\n",
    "          'ml_python', \n",
    "          'ml_r', \n",
    "          'ml_julia', \n",
    "          'ml_sql', \n",
    "          'ml_java', \n",
    "          'ml_js', \n",
    "          'ml_c_cp', \n",
    "          'ml_stata_sas', \n",
    "          'ml_shell', \n",
    "          'ml_other',\n",
    "          # Work with > 1TB of data\n",
    "          'bigdata_python', \n",
    "          'bigdata_r', \n",
    "          'bigdata_julia', \n",
    "          'bigdata_sql', \n",
    "          'bigdata_java', \n",
    "          'bigdata_js', \n",
    "          'bigdata_c_cp', \n",
    "          'bigdata_stata_sas', \n",
    "          'bigdata_shell', \n",
    "          'bigdata_other',\n",
    "          # Develop a complex application or module\n",
    "          'module_python', \n",
    "          'module_r', \n",
    "          'module_julia', \n",
    "          'module_sql', \n",
    "          'module_java', \n",
    "          'module_js', \n",
    "          'module_c_cp', \n",
    "          'module_stata_sas', \n",
    "          'module_shell', \n",
    "          'module_other',\n",
    "          # Documented and released production code intended for use by ...\n",
    "          'release_python', \n",
    "          'release_r', \n",
    "          'release_julia', \n",
    "          'release_sql', \n",
    "          'release_java', \n",
    "          'release_js', \n",
    "          'release_c_cp', \n",
    "          'release_stata_sas', \n",
    "          'release_shell', \n",
    "          'release_other',\n",
    "          # Contributed to community-supported open-source project\n",
    "          'contributor_python', \n",
    "          'contributor_r', \n",
    "          'contributor_julia', \n",
    "          'contributor_sql', \n",
    "          'contributor_java', \n",
    "          'contributor_js', \n",
    "          'contributor_c_cp', \n",
    "          'contributor_stata_sas', \n",
    "          'contributor_shell', \n",
    "          'contributor_other', \n",
    "          'other_language', \n",
    "          'github', \n",
    "          'data_analyzed', \n",
    "          'why_participate', \n",
    "          'source', \n",
    "          'cv_link', \n",
    "          'travel_grant', \n",
    "          'gender_minor', \n",
    "          'race_minor', \n",
    "          'sig_first', \n",
    "          'sig_last', \n",
    "          'date']"
   ]
  },
  {
   "cell_type": "code",
   "execution_count": 132,
   "metadata": {},
   "outputs": [],
   "source": [
    "df.columns = pc_col"
   ]
  },
  {
   "cell_type": "code",
   "execution_count": 133,
   "metadata": {},
   "outputs": [],
   "source": [
    "df2 = df.copy()"
   ]
  },
  {
   "cell_type": "code",
   "execution_count": 134,
   "metadata": {},
   "outputs": [],
   "source": [
    "df2.loc[:, 'never_heard'] = df.apply(lambda x: '; '.join([v for k, v in x.dropna().to_dict().items() if 'never' in k]), axis=1)\n",
    "df2.loc[:, 'have_heard_never_use'] = df.apply(lambda x: '; '.join([v for k, v in x.dropna().to_dict().items() if 'heard' in k]), axis=1)\n",
    "df2.loc[:, 'print_hello_world'] = df.apply(lambda x: '; '.join([v for k, v in x.dropna().to_dict().items() if 'print' in k]), axis=1)\n",
    "df2.loc[:, 'write_func'] = df.apply(lambda x: '; '.join([v for k, v in x.dropna().to_dict().items() if 'func' in k]), axis=1)\n",
    "df2.loc[:, 'read_tsv'] = df.apply(lambda x: '; '.join([v for k, v in x.dropna().to_dict().items() if 'read_tsv' in k]), axis=1)\n",
    "df2.loc[:, 'import_lib'] = df.apply(lambda x: '; '.join([v for k, v in x.dropna().to_dict().items() if 'import' in k]), axis=1)\n",
    "df2.loc[:, 'webscraping'] = df.apply(lambda x: '; '.join([v for k, v in x.dropna().to_dict().items() if 'webscrape' in k]), axis=1)\n",
    "df2.loc[:, 'plotting'] = df.apply(lambda x: '; '.join([v for k, v in x.dropna().to_dict().items() if 'plot' in k]), axis=1)\n",
    "df2.loc[:, 'machine_learning'] = df.apply(lambda x: '; '.join([v for k, v in x.dropna().to_dict().items() if 'ml' in k]), axis=1)\n",
    "df2.loc[:, 'bigdata'] = df.apply(lambda x: '; '.join([v for k, v in x.dropna().to_dict().items() if 'bigdata' in k]), axis=1)\n",
    "df2.loc[:, 'dev_module'] = df.apply(lambda x: '; '.join([v for k, v in x.dropna().to_dict().items() if 'module' in k]), axis=1)\n",
    "df2.loc[:, 'release'] = df.apply(lambda x: '; '.join([v for k, v in x.dropna().to_dict().items() if 'release' in k]), axis=1)\n",
    "df2.loc[:, 'oss_contributor'] = df.apply(lambda x: '; '.join([v for k, v in x.dropna().to_dict().items() if 'contributor' in k]), axis=1)"
   ]
  },
  {
   "cell_type": "code",
   "execution_count": 135,
   "metadata": {},
   "outputs": [],
   "source": [
    "df2 = df2.drop([# Never heard of this language\n",
    "          'never_python', \n",
    "          'never_r', \n",
    "          'never_julia', \n",
    "          'never_sql', \n",
    "          'never_java', \n",
    "          'never_js', \n",
    "          'never_c_cp', \n",
    "          'never_stata_sas', \n",
    "          'never_shell', \n",
    "          'never_other',\n",
    "          # Heard of this language, but never used it\n",
    "          'heard_python', \n",
    "          'heard_r', \n",
    "          'heard_julia', \n",
    "          'heard_sql', \n",
    "          'heard_java', \n",
    "          'heard_js', \n",
    "          'heard_c_cp', \n",
    "          'heard_stata_sas', \n",
    "          'heard_shell', \n",
    "          'heard_other',\n",
    "          # Print \"Hello world!\" to console\n",
    "          'print_python', \n",
    "          'print_r', \n",
    "          'print_julia', \n",
    "          'print_sql', \n",
    "          'print_java', \n",
    "          'print_js', \n",
    "          'print_c_cp', \n",
    "          'print_stata_sas', \n",
    "          'print_shell', \n",
    "          'print_other',\n",
    "          # Write any function\n",
    "          'func_python', \n",
    "          'func_r', \n",
    "          'func_julia', \n",
    "          'func_sql', \n",
    "          'func_java', \n",
    "          'func_js', \n",
    "          'func_c_cp', \n",
    "          'func_stata_sas', \n",
    "          'func_shell', \n",
    "          'func_other',\n",
    "          # Read data from tab-delimited file\n",
    "          'read_tsv_python', \n",
    "          'read_tsv_r', \n",
    "          'read_tsv_julia', \n",
    "          'read_tsv_sql', \n",
    "          'read_tsv_java', \n",
    "          'read_tsv_js', \n",
    "          'read_tsv_c_cp', \n",
    "          'read_tsv_stata_sas', \n",
    "          'read_tsv_shell', \n",
    "          'read_tsv_other',\n",
    "          # Import a library or package\n",
    "          'import_python', \n",
    "          'import_r', \n",
    "          'import_julia', \n",
    "          'import_sql', \n",
    "          'import_java', \n",
    "          'import_js', \n",
    "          'import_c_cp', \n",
    "          'import_stata_sas', \n",
    "          'import_shell', \n",
    "          'import_other',\n",
    "          # Produce a plot or graph\n",
    "          'plot_python', \n",
    "          'plot_r', \n",
    "          'plot_julia', \n",
    "          'plot_sql', \n",
    "          'plot_java', \n",
    "          'plot_js', \n",
    "          'plot_c_cp', \n",
    "          'plot_stata_sas', \n",
    "          'plot_shell', \n",
    "          'plot_other',\n",
    "          # Scrape a web page\n",
    "          'webscrape_python', \n",
    "          'webscrape_r', \n",
    "          'webscrape_julia', \n",
    "          'webscrape_sql', \n",
    "          'webscrape_java', \n",
    "          'webscrape_js', \n",
    "          'webscrape_c_cp', \n",
    "          'webscrape_stata_sas', \n",
    "          'webscrape_shell', \n",
    "          'webscrape_other',\n",
    "          # Train statistical or machine learning model\n",
    "          'ml_python', \n",
    "          'ml_r', \n",
    "          'ml_julia', \n",
    "          'ml_sql', \n",
    "          'ml_java', \n",
    "          'ml_js', \n",
    "          'ml_c_cp', \n",
    "          'ml_stata_sas', \n",
    "          'ml_shell', \n",
    "          'ml_other',\n",
    "          # Work with > 1TB of data\n",
    "          'bigdata_python', \n",
    "          'bigdata_r', \n",
    "          'bigdata_julia', \n",
    "          'bigdata_sql', \n",
    "          'bigdata_java', \n",
    "          'bigdata_js', \n",
    "          'bigdata_c_cp', \n",
    "          'bigdata_stata_sas', \n",
    "          'bigdata_shell', \n",
    "          'bigdata_other',\n",
    "          # Develop a complex application or module\n",
    "          'module_python', \n",
    "          'module_r', \n",
    "          'module_julia', \n",
    "          'module_sql', \n",
    "          'module_java', \n",
    "          'module_js', \n",
    "          'module_c_cp', \n",
    "          'module_stata_sas', \n",
    "          'module_shell', \n",
    "          'module_other',\n",
    "          # Documented and released production code intended for use by ...\n",
    "          'release_python', \n",
    "          'release_r', \n",
    "          'release_julia', \n",
    "          'release_sql', \n",
    "          'release_java', \n",
    "          'release_js', \n",
    "          'release_c_cp', \n",
    "          'release_stata_sas', \n",
    "          'release_shell', \n",
    "          'release_other',\n",
    "          # Contributed to community-supported open-source project\n",
    "          'contributor_python', \n",
    "          'contributor_r', \n",
    "          'contributor_julia', \n",
    "          'contributor_sql', \n",
    "          'contributor_java', \n",
    "          'contributor_js', \n",
    "          'contributor_c_cp', \n",
    "          'contributor_stata_sas', \n",
    "          'contributor_shell', \n",
    "          'contributor_other'], axis='columns')"
   ]
  },
  {
   "cell_type": "code",
   "execution_count": 136,
   "metadata": {},
   "outputs": [],
   "source": [
    "df3 = df.copy()"
   ]
  },
  {
   "cell_type": "markdown",
   "metadata": {},
   "source": [
    "### assign a numeric score to the different levels of coding skill"
   ]
  },
  {
   "cell_type": "code",
   "execution_count": 137,
   "metadata": {},
   "outputs": [],
   "source": [
    "exp_score = {\n",
    "    'never': 0,\n",
    "    'heard': 1,\n",
    "    'print': 2,\n",
    "    'func': 3,\n",
    "    'read_tsv': 4,\n",
    "    'import': 5,\n",
    "    'plot': 6,\n",
    "    'webscrape': 7,\n",
    "    'ml': 8,\n",
    "    'bigdata': 9,\n",
    "    'module': 10,\n",
    "    'release': 11,\n",
    "    'contributor': 12\n",
    "}"
   ]
  },
  {
   "cell_type": "code",
   "execution_count": 138,
   "metadata": {},
   "outputs": [],
   "source": [
    "languages = {\n",
    "    'python': 'Python',\n",
    "    'r': 'R',\n",
    "    'julia': 'Julia',\n",
    "    'sql': 'SQL',\n",
    "    'java': 'Java',\n",
    "    'js': 'JavaScript',\n",
    "    'c_cp': 'C/C++',\n",
    "    'stata_sas': 'Stata/SAS',\n",
    "    'shell': 'Shell scripting, e.g, bash',\n",
    "    'other': 'Other'\n",
    "}"
   ]
  },
  {
   "cell_type": "markdown",
   "metadata": {},
   "source": [
    "### combine datasets used into a smaller number of categories"
   ]
  },
  {
   "cell_type": "code",
   "execution_count": 139,
   "metadata": {},
   "outputs": [],
   "source": [
    "fields = {\n",
    "    'social': ['Urban', 'Demographic', 'Geopolitical'],\n",
    "    'hydro_climate': ['Water resources', 'Climatic/atmospheric'],\n",
    "    'ocean': ['Oceanographic'],\n",
    "    'geophysics': ['Cryospheric',  'Geophysical / solid earth'],\n",
    "    'ecosystem': ['Biological / Ecological', 'Land use / conservation']\n",
    "}"
   ]
  },
  {
   "cell_type": "code",
   "execution_count": 140,
   "metadata": {},
   "outputs": [],
   "source": [
    "def score(lang, person):\n",
    "    score = []\n",
    "    for c in person.keys():\n",
    "        if lang in c:\n",
    "            if person[c] == languages[lang]:\n",
    "                score.append(exp_score[c.replace('_{}'.format(lang), '')])\n",
    "    return sum(score)"
   ]
  },
  {
   "cell_type": "code",
   "execution_count": 141,
   "metadata": {},
   "outputs": [],
   "source": [
    "for k, v in languages.items():\n",
    "    df3.loc[:, k] = df3.apply(lambda person: score(k, person), axis=1)"
   ]
  },
  {
   "cell_type": "code",
   "execution_count": 142,
   "metadata": {},
   "outputs": [],
   "source": [
    "for k, v in fields.items():\n",
    "    df3.loc[:, k] = df3['data_analyzed'].str.contains('|'.join(v)) * 1\n",
    "df3.loc[:, 'other_field'] = ~df3['data_analyzed'].str.contains('|'.join(list(itertools.chain.from_iterable([v for k, v in fields.items()])))) * 1"
   ]
  },
  {
   "cell_type": "code",
   "execution_count": 143,
   "metadata": {},
   "outputs": [],
   "source": [
    "df3 = df3.drop([# Never heard of this language\n",
    "          'never_python', \n",
    "          'never_r', \n",
    "          'never_julia', \n",
    "          'never_sql', \n",
    "          'never_java', \n",
    "          'never_js', \n",
    "          'never_c_cp', \n",
    "          'never_stata_sas', \n",
    "          'never_shell', \n",
    "          'never_other',\n",
    "          # Heard of this language, but never used it\n",
    "          'heard_python', \n",
    "          'heard_r', \n",
    "          'heard_julia', \n",
    "          'heard_sql', \n",
    "          'heard_java', \n",
    "          'heard_js', \n",
    "          'heard_c_cp', \n",
    "          'heard_stata_sas', \n",
    "          'heard_shell', \n",
    "          'heard_other',\n",
    "          # Print \"Hello world!\" to console\n",
    "          'print_python', \n",
    "          'print_r', \n",
    "          'print_julia', \n",
    "          'print_sql', \n",
    "          'print_java', \n",
    "          'print_js', \n",
    "          'print_c_cp', \n",
    "          'print_stata_sas', \n",
    "          'print_shell', \n",
    "          'print_other',\n",
    "          # Write any function\n",
    "          'func_python', \n",
    "          'func_r', \n",
    "          'func_julia', \n",
    "          'func_sql', \n",
    "          'func_java', \n",
    "          'func_js', \n",
    "          'func_c_cp', \n",
    "          'func_stata_sas', \n",
    "          'func_shell', \n",
    "          'func_other',\n",
    "          # Read data from tab-delimited file\n",
    "          'read_tsv_python', \n",
    "          'read_tsv_r', \n",
    "          'read_tsv_julia', \n",
    "          'read_tsv_sql', \n",
    "          'read_tsv_java', \n",
    "          'read_tsv_js', \n",
    "          'read_tsv_c_cp', \n",
    "          'read_tsv_stata_sas', \n",
    "          'read_tsv_shell', \n",
    "          'read_tsv_other',\n",
    "          # Import a library or package\n",
    "          'import_python', \n",
    "          'import_r', \n",
    "          'import_julia', \n",
    "          'import_sql', \n",
    "          'import_java', \n",
    "          'import_js', \n",
    "          'import_c_cp', \n",
    "          'import_stata_sas', \n",
    "          'import_shell', \n",
    "          'import_other',\n",
    "          # Produce a plot or graph\n",
    "          'plot_python', \n",
    "          'plot_r', \n",
    "          'plot_julia', \n",
    "          'plot_sql', \n",
    "          'plot_java', \n",
    "          'plot_js', \n",
    "          'plot_c_cp', \n",
    "          'plot_stata_sas', \n",
    "          'plot_shell', \n",
    "          'plot_other',\n",
    "          # Scrape a web page\n",
    "          'webscrape_python', \n",
    "          'webscrape_r', \n",
    "          'webscrape_julia', \n",
    "          'webscrape_sql', \n",
    "          'webscrape_java', \n",
    "          'webscrape_js', \n",
    "          'webscrape_c_cp', \n",
    "          'webscrape_stata_sas', \n",
    "          'webscrape_shell', \n",
    "          'webscrape_other',\n",
    "          # Train statistical or machine learning model\n",
    "          'ml_python', \n",
    "          'ml_r', \n",
    "          'ml_julia', \n",
    "          'ml_sql', \n",
    "          'ml_java', \n",
    "          'ml_js', \n",
    "          'ml_c_cp', \n",
    "          'ml_stata_sas', \n",
    "          'ml_shell', \n",
    "          'ml_other',\n",
    "          # Work with > 1TB of data\n",
    "          'bigdata_python', \n",
    "          'bigdata_r', \n",
    "          'bigdata_julia', \n",
    "          'bigdata_sql', \n",
    "          'bigdata_java', \n",
    "          'bigdata_js', \n",
    "          'bigdata_c_cp', \n",
    "          'bigdata_stata_sas', \n",
    "          'bigdata_shell', \n",
    "          'bigdata_other',\n",
    "          # Develop a complex application or module\n",
    "          'module_python', \n",
    "          'module_r', \n",
    "          'module_julia', \n",
    "          'module_sql', \n",
    "          'module_java', \n",
    "          'module_js', \n",
    "          'module_c_cp', \n",
    "          'module_stata_sas', \n",
    "          'module_shell', \n",
    "          'module_other',\n",
    "          # Documented and released production code intended for use by ...\n",
    "          'release_python', \n",
    "          'release_r', \n",
    "          'release_julia', \n",
    "          'release_sql', \n",
    "          'release_java', \n",
    "          'release_js', \n",
    "          'release_c_cp', \n",
    "          'release_stata_sas', \n",
    "          'release_shell', \n",
    "          'release_other',\n",
    "          # Contributed to community-supported open-source project\n",
    "          'contributor_python', \n",
    "          'contributor_r', \n",
    "          'contributor_julia', \n",
    "          'contributor_sql', \n",
    "          'contributor_java', \n",
    "          'contributor_js', \n",
    "          'contributor_c_cp', \n",
    "          'contributor_stata_sas', \n",
    "          'contributor_shell', \n",
    "          'contributor_other'], axis='columns')"
   ]
  },
  {
   "cell_type": "markdown",
   "metadata": {},
   "source": [
    "### Combine career stage into a smaller number of categories"
   ]
  },
  {
   "cell_type": "code",
   "execution_count": 144,
   "metadata": {},
   "outputs": [
    {
     "data": {
      "text/plain": [
       "array(['grad_postgrad', 'undergrad', 'Faculty', 'other', 'Government',\n",
       "       'Industry'], dtype=object)"
      ]
     },
     "execution_count": 144,
     "metadata": {},
     "output_type": "execute_result"
    }
   ],
   "source": [
    "df3.replace(to_replace = {'position':{'Graduate/postgraduate student':'grad_postgrad',\n",
    "                                      'PhD':'grad_postgrad',\n",
    "                                      'Postdoc':'grad_postgrad',\n",
    "                                      'Undergraduate/college student':'undergrad',\n",
    "                                      'Research Staff':'Faculty',\n",
    "                                      'Self-employed':'other',\n",
    "                                      'Freelance':'other',\n",
    "                                      'Machine Learning Certification':'other',\n",
    "                                      'NGO':'other',\n",
    "                                      'Self-employed consultant':'other'\n",
    "                                      }}, inplace=True)\n",
    "df3['position'].unique()"
   ]
  },
  {
   "cell_type": "code",
   "execution_count": 145,
   "metadata": {},
   "outputs": [],
   "source": [
    "for k, v in career.items():\n",
    "    df3.loc[:, k] = df3['position'].str.contains('|'.join(v)) * 1"
   ]
  },
  {
   "cell_type": "markdown",
   "metadata": {},
   "source": [
    "### Additional cleaning to handle variations in Country listing, and create a new category to partition out US versus non-US applicants"
   ]
  },
  {
   "cell_type": "code",
   "execution_count": 146,
   "metadata": {},
   "outputs": [
    {
     "data": {
      "text/plain": [
       "array(['USA', 'India', 'Israel', 'United Kingdom', 'Norway', 'Mexico',\n",
       "       'Australia', 'South Africa', 'Canada'], dtype=object)"
      ]
     },
     "execution_count": 146,
     "metadata": {},
     "output_type": "execute_result"
    }
   ],
   "source": [
    "df3.replace(to_replace = {'country':{'United States':'USA',\n",
    "                                         'U.S.A':'USA',\n",
    "                                         'U.S.':'USA',\n",
    "                                         'King':'USA',\n",
    "                                         'US':'USA',\n",
    "                                         'United States ':'USA',\n",
    "                                         'United States of America':'USA',\n",
    "                                         '98105':'USA',\n",
    "                                         '98122':'USA',\n",
    "                                         'M\\xc3\\xa9xico':'Mexico'\n",
    "                                          }}, inplace = True)\n",
    "df3['country'].unique()"
   ]
  },
  {
   "cell_type": "code",
   "execution_count": 147,
   "metadata": {},
   "outputs": [],
   "source": [
    "df3['USA'] = df3.apply(lambda row: 1 if row['country'] == 'USA' else 0, axis=1)"
   ]
  },
  {
   "cell_type": "markdown",
   "metadata": {},
   "source": [
    "#### calculate age"
   ]
  },
  {
   "cell_type": "code",
   "execution_count": 148,
   "metadata": {},
   "outputs": [],
   "source": [
    "#df3.loc[:,'age'] = df3.apply(lambda row: (pd.Timestamp.today() - pd.to_datetime(row['birth_date'], format='%m/%d/%Y', errors='ignore')).days / 365, axis=1)"
   ]
  },
  {
   "cell_type": "markdown",
   "metadata": {},
   "source": [
    "### clean up academic institution, and create a new category to partition out UW versus non-UW applicants"
   ]
  },
  {
   "cell_type": "code",
   "execution_count": 149,
   "metadata": {},
   "outputs": [],
   "source": [
    "df3.replace(to_replace = {'academic_institution':{'UW':'University of Washington',\n",
    "                                                 'Applied Physics Laboratory at University of Washington':'University of Washington',\n",
    "                                                 'University Of Washington':'University of Washington',\n",
    "                                                 'University of Washington ':'University of Washington'}}, inplace = True)"
   ]
  },
  {
   "cell_type": "code",
   "execution_count": 150,
   "metadata": {},
   "outputs": [],
   "source": [
    "df3['atUW'] = df3.apply(lambda row: 1 if row['academic_institution'] == 'University of Washington' else 0, axis=1)"
   ]
  },
  {
   "cell_type": "markdown",
   "metadata": {},
   "source": [
    "### some functions to generate plots"
   ]
  },
  {
   "cell_type": "code",
   "execution_count": 151,
   "metadata": {
    "collapsed": true
   },
   "outputs": [],
   "source": [
    "def make_plot_categorical(column_str):\n",
    "    ax = entrofy.plotting.plot_distribution(df3, column_str,\n",
    "                                        xtype=\"categorical\",\n",
    "                                        cmap=\"YlGnBu\", ax=None)\n",
    "    ax.set_xticklabels(ax.xaxis.get_majorticklabels(), rotation='vertical')\n",
    "\n",
    "def make_plot_continuous(column_str):\n",
    "    ax = entrofy.plotting.plot_distribution(df3, column_str,\n",
    "                                        xtype=\"continuous\",\n",
    "                                        cmap=\"YlGnBu\", ax=None)"
   ]
  },
  {
   "cell_type": "markdown",
   "metadata": {},
   "source": [
    "### Academic Institution?"
   ]
  },
  {
   "cell_type": "code",
   "execution_count": 152,
   "metadata": {},
   "outputs": [
    {
     "data": {
      "image/png": "[encoded data removed]",
      "text/plain": [
       "<Figure size 576x432 with 1 Axes>"
      ]
     },
     "metadata": {},
     "output_type": "display_data"
    }
   ],
   "source": [
    "make_plot_categorical('academic_institution')"
   ]
  },
  {
   "cell_type": "markdown",
   "metadata": {},
   "source": [
    "### What is your current geographical location?"
   ]
  },
  {
   "cell_type": "code",
   "execution_count": 153,
   "metadata": {
    "scrolled": false
   },
   "outputs": [
    {
     "data": {
      "image/png": "[encoded data removed]",
      "text/plain": [
       "<Figure size 576x432 with 1 Axes>"
      ]
     },
     "metadata": {},
     "output_type": "display_data"
    }
   ],
   "source": [
    "make_plot_categorical('country')"
   ]
  },
  {
   "cell_type": "markdown",
   "metadata": {},
   "source": [
    "### What is your current position?"
   ]
  },
  {
   "cell_type": "code",
   "execution_count": 154,
   "metadata": {},
   "outputs": [
    {
     "data": {
      "image/png": "[encoded data removed]",
      "text/plain": [
       "<Figure size 576x432 with 1 Axes>"
      ]
     },
     "metadata": {},
     "output_type": "display_data"
    }
   ],
   "source": [
    "make_plot_categorical('position')"
   ]
  },
  {
   "cell_type": "markdown",
   "metadata": {},
   "source": [
    "### In terms of racial or ethnic identity, do you consider yourself a minority with respect to the field of geospatial science?"
   ]
  },
  {
   "cell_type": "code",
   "execution_count": 155,
   "metadata": {},
   "outputs": [
    {
     "data": {
      "image/png": "[encoded data removed]",
      "text/plain": [
       "<Figure size 576x432 with 1 Axes>"
      ]
     },
     "metadata": {},
     "output_type": "display_data"
    }
   ],
   "source": [
    "make_plot_categorical('race_minor')"
   ]
  },
  {
   "cell_type": "markdown",
   "metadata": {},
   "source": [
    "### In terms of gender identity, do you consider yourself a minority with respect to the field of geospatial science?"
   ]
  },
  {
   "cell_type": "code",
   "execution_count": 156,
   "metadata": {},
   "outputs": [
    {
     "data": {
      "image/png": "[encoded data removed]",
      "text/plain": [
       "<Figure size 576x432 with 1 Axes>"
      ]
     },
     "metadata": {},
     "output_type": "display_data"
    }
   ],
   "source": [
    "make_plot_categorical('gender_minor')"
   ]
  },
  {
   "cell_type": "markdown",
   "metadata": {},
   "source": [
    "### Will you be likely to need financial support from us to attend Geo Hackweek?"
   ]
  },
  {
   "cell_type": "code",
   "execution_count": 157,
   "metadata": {},
   "outputs": [
    {
     "data": {
      "image/png": "[encoded data removed]",
      "text/plain": [
       "<Figure size 576x432 with 1 Axes>"
      ]
     },
     "metadata": {},
     "output_type": "display_data"
    }
   ],
   "source": [
    "make_plot_categorical('travel_grant')"
   ]
  },
  {
   "cell_type": "markdown",
   "metadata": {},
   "source": [
    "### Python coding skill"
   ]
  },
  {
   "cell_type": "code",
   "execution_count": 159,
   "metadata": {},
   "outputs": [
    {
     "data": {
      "image/png": "[encoded data removed]",
      "text/plain": [
       "<Figure size 576x432 with 1 Axes>"
      ]
     },
     "metadata": {},
     "output_type": "display_data"
    }
   ],
   "source": [
    "make_plot_continuous('python')"
   ]
  },
  {
   "cell_type": "markdown",
   "metadata": {},
   "source": [
    "### at a US institution?"
   ]
  },
  {
   "cell_type": "code",
   "execution_count": 160,
   "metadata": {},
   "outputs": [
    {
     "data": {
      "image/png": "[encoded data removed]",
      "text/plain": [
       "<Figure size 576x432 with 1 Axes>"
      ]
     },
     "metadata": {},
     "output_type": "display_data"
    }
   ],
   "source": [
    "make_plot_categorical('USA')"
   ]
  },
  {
   "cell_type": "markdown",
   "metadata": {},
   "source": [
    "## At UW?"
   ]
  },
  {
   "cell_type": "code",
   "execution_count": 161,
   "metadata": {},
   "outputs": [
    {
     "data": {
      "image/png": "[encoded data removed]",
      "text/plain": [
       "<Figure size 576x432 with 1 Axes>"
      ]
     },
     "metadata": {},
     "output_type": "display_data"
    }
   ],
   "source": [
    "make_plot_categorical('atUW')"
   ]
  },
  {
   "cell_type": "markdown",
   "metadata": {},
   "source": [
    "## Running entrofy\n",
    "\n",
    "### define categories for consideration and weights"
   ]
  },
  {
   "cell_type": "code",
   "execution_count": 163,
   "metadata": {},
   "outputs": [],
   "source": [
    "weights = {\n",
    "           'gender_minor': 1.0,\n",
    "           'race_minor': 1.0,\n",
    "           'python': 1.0,\n",
    "           'USA': 1.0,\n",
    "           'atUW': 1.0,\n",
    "           'other_field': 1.0,\n",
    "           'position': 1.0\n",
    "#           'social': 1.0,\n",
    "#           'hydro_climate': 1.0,\n",
    "#           'ocean': 1.0,\n",
    "#           'geophysics': 1.0,\n",
    "#           'ecosystem': 1.0\n",
    "          }\n",
    "\n",
    "datatypes = {\n",
    "             'gender_minor': 'categorical',\n",
    "             'race_minor': 'categorical',\n",
    "             'python': 'continuous',\n",
    "             'USA': 'categorical',\n",
    "             'atUW': 'categorical',\n",
    "             'other_field': 'categorical',\n",
    "             'position': 'categorical'\n",
    "#             'social': 'categorical',\n",
    "#             'hydro_climate': 'categorical',\n",
    "#             'ocean': 'categorical',\n",
    "#             'geophysics': 'categorical',\n",
    "#             'ecosystem': 'categorical'\n",
    "             }\n"
   ]
  },
  {
   "cell_type": "code",
   "execution_count": 164,
   "metadata": {},
   "outputs": [],
   "source": [
    "mappers = entrofy.core.construct_mappers(df3, weights, datatypes)"
   ]
  },
  {
   "cell_type": "code",
   "execution_count": 165,
   "metadata": {},
   "outputs": [],
   "source": [
    "# label mappers to avoid confusion in merging dataframe columns later\n",
    "mappers['gender_minor'].prefix = 'gender'\n",
    "mappers['race_minor'].prefix = 'race'\n",
    "mappers['python'].prefix = 'python'\n",
    "mappers['USA'].prefix = 'USA'\n",
    "mappers['atUW'].prefix = 'atUW'\n",
    "mappers['other_field'].prefix = 'other_field'\n",
    "mappers['position'].prefix = 'position'\n",
    "\n",
    "#mappers['social'].prefix = 'social'\n",
    "#mappers['hydro_climate'].prefix = 'hydro_climate'\n",
    "#mappers['ocean'].prefix = 'ocean'\n",
    "#mappers['geophysics'].prefix = 'geophysics'\n",
    "#mappers['ecosystem'].prefix = 'ecosystem'"
   ]
  },
  {
   "cell_type": "markdown",
   "metadata": {},
   "source": [
    "### Set desired targets in the distribuion for accepted applicants "
   ]
  },
  {
   "cell_type": "code",
   "execution_count": 174,
   "metadata": {},
   "outputs": [],
   "source": [
    "# gender and race/ethnicity targets (\"Do you consider yourself a minority...\" 'NO'/'YES')\n",
    "\n",
    "new_targets = [0.50, 0.50]\n",
    "\n",
    "sorted_keys = np.sort(list(mappers['gender_minor'].targets.keys()))\n",
    "for t, key in zip(new_targets, sorted_keys):\n",
    "    mappers['gender_minor'].targets[key] = t\n",
    "\n",
    "sorted_keys = np.sort(list(mappers['race_minor'].targets.keys()))\n",
    "for t, key in zip(new_targets, sorted_keys):\n",
    "    mappers['race_minor'].targets[key] = t\n",
    "\n",
    "# non-US versus US countries    \n",
    "    \n",
    "new_targets = [0.20, 0.80]\n",
    "sorted_keys = np.sort(list(mappers['USA'].targets.keys()))\n",
    "for t, key in zip(new_targets, sorted_keys):\n",
    "    mappers['USA'].targets[key] = t\n",
    "    \n",
    "# non-UW versus UW institutions    \n",
    "    \n",
    "new_targets = [0.50, 0.50]\n",
    "sorted_keys = np.sort(list(mappers['atUW'].targets.keys()))\n",
    "for t, key in zip(new_targets, sorted_keys):\n",
    "    mappers['atUW'].targets[key] = t\n",
    "\n",
    "# career position (Faculty/Government/Industry/grad_postgrad/other/undergrad)  \n",
    "    \n",
    "new_targets = [0.10, 0.10, 0.10 ,0.50 ,0.10 ,0.10]\n",
    "sorted_keys = np.sort(list(mappers['position'].targets.keys()))\n",
    "for t, key in zip(new_targets, sorted_keys):\n",
    "    mappers['position'].targets[key] = t\n",
    "    \n",
    "# NO/YES worked with other geospatial data (effort to increase non-traditional geospatial fields)\n",
    "    \n",
    "new_targets = [0.80, 0.20] \n",
    "sorted_keys = np.sort(list(mappers['other_field'].targets.keys()))\n",
    "for t, key in zip(new_targets, sorted_keys):\n",
    "    mappers['other_field'].targets[key] = t\n"
   ]
  },
  {
   "cell_type": "markdown",
   "metadata": {},
   "source": [
    "### Python skill level is the only continuous field. Here we use the default distribution, targeting 1/3 in equally-distributed numeric bins"
   ]
  },
  {
   "cell_type": "code",
   "execution_count": 180,
   "metadata": {},
   "outputs": [
    {
     "data": {
      "text/plain": [
       "{'1.000000_26.333333': 0.3333333333333333,\n",
       " '26.333333_51.666667': 0.3333333333333333,\n",
       " '51.666667_77.000000': 0.3333333333333333}"
      ]
     },
     "execution_count": 180,
     "metadata": {},
     "output_type": "execute_result"
    }
   ],
   "source": [
    "mappers['python'].targets"
   ]
  },
  {
   "cell_type": "code",
   "execution_count": 176,
   "metadata": {},
   "outputs": [
    {
     "data": {
      "text/plain": [
       "{'USA': <entrofy.mappers.ObjectMapper at 0x7f7e478c09d0>,\n",
       " 'atUW': <entrofy.mappers.ObjectMapper at 0x7f7e56a51b90>,\n",
       " 'gender_minor': <entrofy.mappers.ObjectMapper at 0x7f7e5782ef90>,\n",
       " 'other_field': <entrofy.mappers.ObjectMapper at 0x7f7e56a51590>,\n",
       " 'position': <entrofy.mappers.ObjectMapper at 0x7f7e576ca6d0>,\n",
       " 'python': <entrofy.mappers.ContinuousMapper at 0x7f7e5798c890>,\n",
       " 'race_minor': <entrofy.mappers.ObjectMapper at 0x7f7e56a519d0>}"
      ]
     },
     "execution_count": 176,
     "metadata": {},
     "output_type": "execute_result"
    }
   ],
   "source": [
    "mappers"
   ]
  },
  {
   "cell_type": "code",
   "execution_count": 181,
   "metadata": {
    "scrolled": true
   },
   "outputs": [
    {
     "name": "stdout",
     "output_type": "stream",
     "text": [
      "81.77512470596943\n"
     ]
    }
   ],
   "source": [
    "idx, max_score = entrofy.core.entrofy(df3, 65,\n",
    "                                      mappers=mappers,\n",
    "                                      weights=weights,\n",
    "                                      seed=seed)\n",
    "print(max_score)"
   ]
  },
  {
   "cell_type": "code",
   "execution_count": 182,
   "metadata": {},
   "outputs": [],
   "source": [
    "df_out = df3.loc[idx]"
   ]
  },
  {
   "cell_type": "code",
   "execution_count": 186,
   "metadata": {},
   "outputs": [
    {
     "data": {
      "image/png": "[encoded data removed]",
      "text/plain": [
       "<Figure size 1152x432 with 7 Axes>"
      ]
     },
     "metadata": {},
     "output_type": "display_data"
    }
   ],
   "source": [
    "_ = entrofy.plotting.plot(df3, idx, weights, mappers=mappers, cols=4)"
   ]
  },
  {
   "cell_type": "markdown",
   "metadata": {},
   "source": [
    "### plotting career position so it is easier to see"
   ]
  },
  {
   "cell_type": "code",
   "execution_count": 193,
   "metadata": {},
   "outputs": [
    {
     "data": {
      "image/png": "[encoded data removed]",
      "text/plain": [
       "<Figure size 1728x576 with 1 Axes>"
      ]
     },
     "metadata": {},
     "output_type": "display_data"
    }
   ],
   "source": [
    "_, _ = entrofy.plotting.plot_fractions(df3[\"position\"], idx,\n",
    "                                       \"position\", mappers[\"position\"])"
   ]
  },
  {
   "cell_type": "code",
   "execution_count": 240,
   "metadata": {
    "scrolled": false
   },
   "outputs": [],
   "source": [
    "df[['first_name','last_name']].loc[idx].to_csv('accepted.csv')"
   ]
  },
  {
   "cell_type": "code",
   "execution_count": 248,
   "metadata": {},
   "outputs": [],
   "source": [
    "df.loc[set(df.index) - set(idx)].to_csv('rejected.csv')"
   ]
  }
 ],
 "metadata": {
  "kernelspec": {
   "display_name": "Python 2",
   "language": "python",
   "name": "python2"
  },
  "language_info": {
   "codemirror_mode": {
    "name": "ipython",
    "version": 2
   },
   "file_extension": ".py",
   "mimetype": "text/x-python",
   "name": "python",
   "nbconvert_exporter": "python",
   "pygments_lexer": "ipython2",
   "version": "2.7.14"
  }
 },
 "nbformat": 4,
 "nbformat_minor": 2
}
